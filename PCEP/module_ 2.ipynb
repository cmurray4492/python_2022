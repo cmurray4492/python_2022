{
 "cells": [
  {
   "cell_type": "code",
   "execution_count": 2,
   "id": "988bfc99",
   "metadata": {},
   "outputs": [
    {
     "name": "stdout",
     "output_type": "stream",
     "text": [
      "Enter your hieght in cm: 165\n",
      "Your height in feet is:  5.427631578947369\n"
     ]
    }
   ],
   "source": [
    "height_cm = input('Enter your hieght in cm: ')\n",
    "float_height_cm = float(height_cm)\n",
    "print('Your height in feet is: ', float_height_cm / 30.40)"
   ]
  },
  {
   "cell_type": "code",
   "execution_count": 3,
   "id": "c8bd9928",
   "metadata": {},
   "outputs": [
    {
     "name": "stdout",
     "output_type": "stream",
     "text": [
      "Enter your hieght in cm: 175\n",
      "Your height in feet is:  5.756578947368421\n"
     ]
    }
   ],
   "source": [
    "height_cm = float(input('Enter your hieght in cm: '))\n",
    "\n",
    "print('Your height in feet is: ', height_cm / 30.40)"
   ]
  },
  {
   "cell_type": "code",
   "execution_count": null,
   "id": "410e9742",
   "metadata": {},
   "outputs": [],
   "source": []
  }
 ],
 "metadata": {
  "kernelspec": {
   "display_name": "Python 3 (ipykernel)",
   "language": "python",
   "name": "python3"
  },
  "language_info": {
   "codemirror_mode": {
    "name": "ipython",
    "version": 3
   },
   "file_extension": ".py",
   "mimetype": "text/x-python",
   "name": "python",
   "nbconvert_exporter": "python",
   "pygments_lexer": "ipython3",
   "version": "3.9.7"
  }
 },
 "nbformat": 4,
 "nbformat_minor": 5
}
