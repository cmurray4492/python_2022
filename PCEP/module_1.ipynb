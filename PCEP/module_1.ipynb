{
 "cells": [
  {
   "cell_type": "markdown",
   "id": "fc2fc85a",
   "metadata": {},
   "source": [
    "# Module 1"
   ]
  },
  {
   "cell_type": "markdown",
   "id": "06a4f0d9",
   "metadata": {},
   "source": [
    "## First Program"
   ]
  },
  {
   "cell_type": "code",
   "execution_count": 1,
   "id": "7f09956b",
   "metadata": {},
   "outputs": [
    {
     "name": "stdout",
     "output_type": "stream",
     "text": [
      "Hello, World!\n"
     ]
    }
   ],
   "source": [
    "print('Hello, World!')"
   ]
  },
  {
   "cell_type": "markdown",
   "id": "6b916567",
   "metadata": {},
   "source": [
    "## Variables"
   ]
  },
  {
   "cell_type": "code",
   "execution_count": 2,
   "id": "331a5a11",
   "metadata": {},
   "outputs": [],
   "source": [
    "greeting = 'Hello, Friend'"
   ]
  },
  {
   "cell_type": "code",
   "execution_count": 3,
   "id": "f455d2b1",
   "metadata": {},
   "outputs": [
    {
     "name": "stdout",
     "output_type": "stream",
     "text": [
      "Hello, Friend\n"
     ]
    }
   ],
   "source": [
    "print(greeting)"
   ]
  },
  {
   "cell_type": "code",
   "execution_count": 4,
   "id": "c17090d6",
   "metadata": {},
   "outputs": [],
   "source": [
    "greeting1 = 'Hell0, Cheers'"
   ]
  },
  {
   "cell_type": "code",
   "execution_count": 5,
   "id": "e40d6a9c",
   "metadata": {},
   "outputs": [
    {
     "name": "stdout",
     "output_type": "stream",
     "text": [
      "Hell0, Cheers\n"
     ]
    }
   ],
   "source": [
    "print(greeting1)"
   ]
  },
  {
   "cell_type": "markdown",
   "id": "eaad338d",
   "metadata": {},
   "source": [
    "## Data Types"
   ]
  },
  {
   "cell_type": "code",
   "execution_count": 6,
   "id": "7beea356",
   "metadata": {},
   "outputs": [],
   "source": [
    "a = 35 # Integer"
   ]
  },
  {
   "cell_type": "code",
   "execution_count": 7,
   "id": "719479e9",
   "metadata": {},
   "outputs": [
    {
     "data": {
      "text/plain": [
       "int"
      ]
     },
     "execution_count": 7,
     "metadata": {},
     "output_type": "execute_result"
    }
   ],
   "source": [
    "type(a)"
   ]
  },
  {
   "cell_type": "code",
   "execution_count": 8,
   "id": "9e2c5385",
   "metadata": {},
   "outputs": [],
   "source": [
    "v = 4.5 # float"
   ]
  },
  {
   "cell_type": "code",
   "execution_count": 9,
   "id": "df31b84a",
   "metadata": {},
   "outputs": [
    {
     "data": {
      "text/plain": [
       "float"
      ]
     },
     "execution_count": 9,
     "metadata": {},
     "output_type": "execute_result"
    }
   ],
   "source": [
    "type(v)"
   ]
  },
  {
   "cell_type": "code",
   "execution_count": 10,
   "id": "ea43a690",
   "metadata": {},
   "outputs": [],
   "source": [
    "b = True # boolean"
   ]
  },
  {
   "cell_type": "code",
   "execution_count": 11,
   "id": "9bef12f8",
   "metadata": {},
   "outputs": [
    {
     "data": {
      "text/plain": [
       "bool"
      ]
     },
     "execution_count": 11,
     "metadata": {},
     "output_type": "execute_result"
    }
   ],
   "source": [
    "type(b)"
   ]
  },
  {
   "cell_type": "markdown",
   "id": "0bf26665",
   "metadata": {},
   "source": [
    "## Comments"
   ]
  },
  {
   "cell_type": "code",
   "execution_count": 12,
   "id": "78077f5b",
   "metadata": {},
   "outputs": [],
   "source": [
    "# Comments start with a hash sign (#)"
   ]
  },
  {
   "cell_type": "markdown",
   "id": "e4598e14",
   "metadata": {},
   "source": [
    "## Numerical Representations\n"
   ]
  },
  {
   "cell_type": "code",
   "execution_count": 13,
   "id": "0edc114e",
   "metadata": {},
   "outputs": [],
   "source": [
    "# Using underscores amds sciemtific notation"
   ]
  },
  {
   "cell_type": "code",
   "execution_count": 14,
   "id": "ffb9d508",
   "metadata": {},
   "outputs": [],
   "source": [
    "# Octal Numbers 0o123 - starts with 0o\n",
    "# Hexidecimal Numbers 0X123 starts with 0X"
   ]
  },
  {
   "cell_type": "markdown",
   "id": "d1281506",
   "metadata": {},
   "source": [
    "## Operators "
   ]
  },
  {
   "cell_type": "code",
   "execution_count": 15,
   "id": "9a31a361",
   "metadata": {},
   "outputs": [
    {
     "data": {
      "text/plain": [
       "5"
      ]
     },
     "execution_count": 15,
     "metadata": {},
     "output_type": "execute_result"
    }
   ],
   "source": [
    "# Addition +\n",
    "2 + 3"
   ]
  },
  {
   "cell_type": "code",
   "execution_count": 16,
   "id": "0f20f511",
   "metadata": {},
   "outputs": [
    {
     "data": {
      "text/plain": [
       "1"
      ]
     },
     "execution_count": 16,
     "metadata": {},
     "output_type": "execute_result"
    }
   ],
   "source": [
    "# Subtraction - \n",
    "5 - 4"
   ]
  },
  {
   "cell_type": "code",
   "execution_count": 17,
   "id": "499642ef",
   "metadata": {},
   "outputs": [
    {
     "data": {
      "text/plain": [
       "15"
      ]
     },
     "execution_count": 17,
     "metadata": {},
     "output_type": "execute_result"
    }
   ],
   "source": [
    "# Multiplication\n",
    "3 * 5"
   ]
  },
  {
   "cell_type": "code",
   "execution_count": 18,
   "id": "cdc6b074",
   "metadata": {},
   "outputs": [
    {
     "data": {
      "text/plain": [
       "3.0"
      ]
     },
     "execution_count": 18,
     "metadata": {},
     "output_type": "execute_result"
    }
   ],
   "source": [
    "# Standard Division - always produces a float\n",
    "6 / 2"
   ]
  },
  {
   "cell_type": "code",
   "execution_count": 19,
   "id": "30a57d2a",
   "metadata": {},
   "outputs": [
    {
     "data": {
      "text/plain": [
       "3.5"
      ]
     },
     "execution_count": 19,
     "metadata": {},
     "output_type": "execute_result"
    }
   ],
   "source": [
    "7 / 2"
   ]
  },
  {
   "cell_type": "code",
   "execution_count": 20,
   "id": "81eb5025",
   "metadata": {},
   "outputs": [
    {
     "data": {
      "text/plain": [
       "3"
      ]
     },
     "execution_count": 20,
     "metadata": {},
     "output_type": "execute_result"
    }
   ],
   "source": [
    "# Integer Division \n",
    "6 // 2"
   ]
  },
  {
   "cell_type": "code",
   "execution_count": 21,
   "id": "8ae0cb29",
   "metadata": {},
   "outputs": [
    {
     "data": {
      "text/plain": [
       "3"
      ]
     },
     "execution_count": 21,
     "metadata": {},
     "output_type": "execute_result"
    }
   ],
   "source": [
    "7 // 2"
   ]
  },
  {
   "cell_type": "code",
   "execution_count": 22,
   "id": "f84dca28",
   "metadata": {},
   "outputs": [
    {
     "data": {
      "text/plain": [
       "0"
      ]
     },
     "execution_count": 22,
     "metadata": {},
     "output_type": "execute_result"
    }
   ],
   "source": [
    "# Modulus Division - returns the reminder\n",
    "6 % 2"
   ]
  },
  {
   "cell_type": "code",
   "execution_count": 23,
   "id": "62100331",
   "metadata": {},
   "outputs": [
    {
     "data": {
      "text/plain": [
       "1"
      ]
     },
     "execution_count": 23,
     "metadata": {},
     "output_type": "execute_result"
    }
   ],
   "source": [
    "7 % 2"
   ]
  },
  {
   "cell_type": "code",
   "execution_count": 24,
   "id": "d9f167d0",
   "metadata": {},
   "outputs": [
    {
     "data": {
      "text/plain": [
       "8"
      ]
     },
     "execution_count": 24,
     "metadata": {},
     "output_type": "execute_result"
    }
   ],
   "source": [
    "# Power Operator\n",
    "2 ** 3"
   ]
  },
  {
   "cell_type": "code",
   "execution_count": 25,
   "id": "81429bff",
   "metadata": {},
   "outputs": [
    {
     "data": {
      "text/plain": [
       "256"
      ]
     },
     "execution_count": 25,
     "metadata": {},
     "output_type": "execute_result"
    }
   ],
   "source": [
    "4 ** 4"
   ]
  },
  {
   "cell_type": "code",
   "execution_count": 26,
   "id": "3bd230d0",
   "metadata": {},
   "outputs": [
    {
     "data": {
      "text/plain": [
       "9.8596"
      ]
     },
     "execution_count": 26,
     "metadata": {},
     "output_type": "execute_result"
    }
   ],
   "source": [
    "3.14 ** 2"
   ]
  },
  {
   "cell_type": "markdown",
   "id": "075bfa28",
   "metadata": {},
   "source": [
    "## Reassigning Values"
   ]
  },
  {
   "cell_type": "code",
   "execution_count": 27,
   "id": "3ed19ecf",
   "metadata": {},
   "outputs": [
    {
     "name": "stdout",
     "output_type": "stream",
     "text": [
      "28\n",
      "33\n"
     ]
    }
   ],
   "source": [
    "age = 28\n",
    "print(age)\n",
    "new_age = age + 5\n",
    "print(new_age)"
   ]
  },
  {
   "cell_type": "code",
   "execution_count": 28,
   "id": "11fda2a0",
   "metadata": {},
   "outputs": [
    {
     "name": "stdout",
     "output_type": "stream",
     "text": [
      "28\n",
      "38\n"
     ]
    }
   ],
   "source": [
    "age = 28\n",
    "print(age)\n",
    "age = age + 10\n",
    "print(age)"
   ]
  },
  {
   "cell_type": "code",
   "execution_count": 29,
   "id": "21359345",
   "metadata": {},
   "outputs": [
    {
     "name": "stdout",
     "output_type": "stream",
     "text": [
      "35\n"
     ]
    }
   ],
   "source": [
    "age = 28\n",
    "age += 7\n",
    "print(age)"
   ]
  },
  {
   "cell_type": "markdown",
   "id": "268b8927",
   "metadata": {},
   "source": [
    "## Input"
   ]
  },
  {
   "cell_type": "code",
   "execution_count": 36,
   "id": "d5f6d29c",
   "metadata": {},
   "outputs": [
    {
     "name": "stdout",
     "output_type": "stream",
     "text": [
      "What is your name? \n",
      "Murray\n",
      "Hello, Murray\n"
     ]
    }
   ],
   "source": [
    "# input wil always \n",
    "user_name input('What is your name? ')\n",
    "user_name = input()\n",
    "print('Hello,', user_name)"
   ]
  },
  {
   "cell_type": "code",
   "execution_count": null,
   "id": "e43e472d",
   "metadata": {},
   "outputs": [],
   "source": []
  }
 ],
 "metadata": {
  "kernelspec": {
   "display_name": "Python 3 (ipykernel)",
   "language": "python",
   "name": "python3"
  },
  "language_info": {
   "codemirror_mode": {
    "name": "ipython",
    "version": 3
   },
   "file_extension": ".py",
   "mimetype": "text/x-python",
   "name": "python",
   "nbconvert_exporter": "python",
   "pygments_lexer": "ipython3",
   "version": "3.9.7"
  }
 },
 "nbformat": 4,
 "nbformat_minor": 5
}
